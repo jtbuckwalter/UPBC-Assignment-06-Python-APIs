{
 "cells": [
  {
   "cell_type": "markdown",
   "metadata": {},
   "source": [
    "# WeatherPy\n",
    "----\n",
    "\n",
    "#### Note\n",
    "* Instructions have been included for each segment. You do not have to follow them exactly, but they are included to help you think through the steps."
   ]
  },
  {
   "cell_type": "code",
   "execution_count": 1,
   "metadata": {
    "scrolled": true
   },
   "outputs": [],
   "source": [
    "# Dependencies and Setup\n",
    "import matplotlib.pyplot as plt\n",
    "import pandas as pd\n",
    "import numpy as np\n",
    "import requests\n",
    "import time\n",
    "from scipy.stats import linregress\n",
    "\n",
    "# Import API key\n",
    "from api_keys import weather_api_key\n",
    "\n",
    "# Incorporated citipy to determine city based on latitude and longitude\n",
    "from citipy import citipy\n",
    "\n",
    "# Output File (CSV)\n",
    "output_data_file = \"output_data/cities.csv\"\n",
    "\n",
    "# Range of latitudes and longitudes\n",
    "lat_range = (-90, 90)\n",
    "lng_range = (-180, 180)"
   ]
  },
  {
   "cell_type": "markdown",
   "metadata": {},
   "source": [
    "## Generate Cities List"
   ]
  },
  {
   "cell_type": "code",
   "execution_count": 2,
   "metadata": {},
   "outputs": [
    {
     "data": {
      "text/plain": [
       "636"
      ]
     },
     "execution_count": 2,
     "metadata": {},
     "output_type": "execute_result"
    }
   ],
   "source": [
    "# List for holding lat_lngs and cities\n",
    "lat_lngs = []\n",
    "cities = []\n",
    "\n",
    "# Create a set of random lat and lng combinations\n",
    "lats = np.random.uniform(lat_range[0], lat_range[1], size=1500)\n",
    "lngs = np.random.uniform(lng_range[0], lng_range[1], size=1500)\n",
    "lat_lngs = zip(lats, lngs)\n",
    "\n",
    "# Identify nearest city for each lat, lng combination\n",
    "for lat_lng in lat_lngs:\n",
    "    city = citipy.nearest_city(lat_lng[0], lat_lng[1]).city_name\n",
    "    \n",
    "    # If the city is unique, then add it to a our cities list\n",
    "    if city not in cities:\n",
    "        cities.append(city)\n",
    "\n",
    "# Print the city count to confirm sufficient count\n",
    "len(cities)"
   ]
  },
  {
   "cell_type": "markdown",
   "metadata": {},
   "source": [
    "### Perform API Calls\n",
    "* Perform a weather check on each city using a series of successive API calls.\n",
    "* Include a print log of each city as it'sbeing processed (with the city number and city name).\n",
    "\n",
    "> **HINT:** The OpenWeatherMap API only allows 60 calls per minute under their free plan. Try using `time.sleep(60)` after each set of 50 cities to avoid API errors due to large calls."
   ]
  },
  {
   "cell_type": "code",
   "execution_count": 77,
   "metadata": {
    "scrolled": true
   },
   "outputs": [
    {
     "name": "stdout",
     "output_type": "stream",
     "text": [
      "0: mponela loaded.\n",
      "1: srivardhan loaded.\n",
      "2: kytmanovo loaded.\n",
      "3: hofn loaded.\n",
      "4: butaritari loaded.\n",
      "5: khatanga loaded.\n",
      "6: bafq loaded.\n",
      "7: cabo san lucas loaded.\n",
      "8: toftir failed to load.\n",
      "9: ponta do sol loaded.\n",
      "10: puerto ayora loaded.\n",
      "11: katsuura loaded.\n",
      "12: grand river south east failed to load.\n",
      "13: kapaa loaded.\n",
      "14: nyurba loaded.\n",
      "15: nizhneyansk failed to load.\n",
      "16: dhule loaded.\n",
      "17: jamestown loaded.\n",
      "18: souillac loaded.\n",
      "19: hilo loaded.\n",
      "20: praia da vitoria loaded.\n",
      "21: bengkulu loaded.\n",
      "22: punta arenas loaded.\n",
      "23: taolanaro failed to load.\n",
      "24: leningradskiy loaded.\n",
      "25: busselton loaded.\n",
      "26: atuona loaded.\n",
      "27: bethel loaded.\n",
      "28: narsaq loaded.\n",
      "29: georgetown loaded.\n",
      "30: vao loaded.\n",
      "31: ribeira grande loaded.\n",
      "32: albany loaded.\n",
      "33: hermanus loaded.\n",
      "34: castro loaded.\n",
      "35: nanortalik loaded.\n",
      "36: barentsburg failed to load.\n",
      "37: lebu loaded.\n",
      "38: maloshuyka failed to load.\n",
      "39: cocal loaded.\n",
      "40: belushya guba failed to load.\n",
      "41: new norfolk loaded.\n",
      "42: cidreira loaded.\n",
      "43: amderma failed to load.\n",
      "44: norman wells loaded.\n",
      "45: benjamin aceval loaded.\n",
      "46: los llanos de aridane loaded.\n",
      "47: murgab loaded.\n",
      "48: mataura loaded.\n",
      "49: dungarvan loaded.\n",
      "50: illoqqortoormiut failed to load.\n",
      "51: kahului loaded.\n",
      "52: jaleswar loaded.\n",
      "53: bredasdorp loaded.\n",
      "54: thompson loaded.\n",
      "55: saint-philippe loaded.\n",
      "56: kokopo loaded.\n",
      "57: irbil loaded.\n",
      "58: umzimvubu failed to load.\n",
      "59: hithadhoo loaded.\n",
      "60: nhamunda loaded.\n",
      "61: bose loaded.\n",
      "62: anadyr loaded.\n",
      "63: mahebourg loaded.\n",
      "64: haines junction loaded.\n",
      "65: aksarka loaded.\n",
      "66: rikitea loaded.\n",
      "67: trelew loaded.\n",
      "68: kodinsk loaded.\n",
      "69: henties bay loaded.\n",
      "70: luis correia loaded.\n",
      "71: nabire loaded.\n",
      "72: santa cruz loaded.\n",
      "73: coihaique loaded.\n",
      "74: ilulissat loaded.\n",
      "75: carnarvon loaded.\n",
      "76: ahuimanu loaded.\n",
      "77: quelimane loaded.\n",
      "78: arkhangelsk loaded.\n",
      "79: bambous virieux loaded.\n",
      "80: keshan failed to load.\n",
      "81: dakar loaded.\n",
      "82: chongwe loaded.\n",
      "83: srednekolymsk loaded.\n",
      "84: kavieng loaded.\n",
      "85: chamba loaded.\n",
      "86: hasaki loaded.\n",
      "87: nizwa loaded.\n",
      "88: vaini loaded.\n",
      "89: dikson loaded.\n",
      "90: volkermarkt failed to load.\n",
      "91: arraial do cabo loaded.\n",
      "92: comodoro rivadavia loaded.\n",
      "93: ushuaia loaded.\n",
      "94: englehart loaded.\n",
      "95: pandakan loaded.\n",
      "96: karratha loaded.\n",
      "97: geraldton loaded.\n",
      "98: minab loaded.\n",
      "99: port-gentil loaded.\n",
      "100: vagamo loaded.\n",
      "101: avarua loaded.\n",
      "102: chagda failed to load.\n",
      "103: banda aceh loaded.\n",
      "104: bluff loaded.\n",
      "105: disa loaded.\n",
      "106: berdigestyakh loaded.\n",
      "107: batagay loaded.\n",
      "108: taketa loaded.\n",
      "109: saldanha loaded.\n",
      "110: lompoc loaded.\n",
      "111: dzilam gonzalez loaded.\n",
      "112: nikolskoye loaded.\n",
      "113: barra patuca loaded.\n",
      "114: wajid loaded.\n",
      "115: maunabo loaded.\n",
      "116: bonavista loaded.\n",
      "117: koprivnica loaded.\n",
      "118: leshukonskoye loaded.\n",
      "119: east london loaded.\n",
      "120: hobart loaded.\n",
      "121: mumford loaded.\n",
      "122: humaita loaded.\n",
      "123: vilshofen loaded.\n",
      "124: sulangan loaded.\n",
      "125: maningrida loaded.\n",
      "126: bodoco failed to load.\n",
      "127: upernavik loaded.\n",
      "128: attawapiskat failed to load.\n",
      "129: cape town loaded.\n",
      "130: pevek loaded.\n",
      "131: abnub loaded.\n",
      "132: huarmey loaded.\n",
      "133: puerto ayacucho loaded.\n",
      "134: lavrentiya loaded.\n",
      "135: omsukchan loaded.\n",
      "136: codrington loaded.\n",
      "137: rolim de moura failed to load.\n",
      "138: sentyabrskiy failed to load.\n",
      "139: berlevag loaded.\n",
      "140: quatre cocos loaded.\n",
      "141: aykhal loaded.\n",
      "142: auki loaded.\n",
      "143: eravur loaded.\n",
      "144: santa rosa loaded.\n",
      "145: mastic beach loaded.\n",
      "146: port hedland loaded.\n",
      "147: horodnya loaded.\n",
      "148: wilmington loaded.\n",
      "149: constitucion loaded.\n",
      "150: belaya gora loaded.\n",
      "151: melbu loaded.\n",
      "152: conde loaded.\n",
      "153: port elizabeth loaded.\n",
      "154: vagay loaded.\n",
      "155: tiksi loaded.\n",
      "156: george town loaded.\n",
      "157: kruisfontein loaded.\n",
      "158: saskylakh loaded.\n",
      "159: douentza loaded.\n",
      "160: muros loaded.\n",
      "161: portland loaded.\n",
      "162: aklavik loaded.\n",
      "163: itupiranga loaded.\n",
      "164: faanui loaded.\n",
      "165: tukrah loaded.\n",
      "166: marrakesh loaded.\n",
      "167: tawkar failed to load.\n",
      "168: purpe loaded.\n",
      "169: vestmannaeyjar loaded.\n",
      "170: mar del plata loaded.\n",
      "171: ornskoldsvik loaded.\n",
      "172: barrow loaded.\n",
      "173: ewa beach loaded.\n",
      "174: victoria loaded.\n",
      "175: ninh binh loaded.\n",
      "176: alice springs loaded.\n",
      "177: port alfred loaded.\n",
      "178: bonito loaded.\n",
      "179: longyearbyen loaded.\n",
      "180: strezhevoy loaded.\n",
      "181: laela loaded.\n",
      "182: sao filipe loaded.\n",
      "183: florida loaded.\n",
      "184: skjervoy loaded.\n",
      "185: sawang daen din loaded.\n",
      "186: lasa loaded.\n",
      "187: ust-kulom loaded.\n",
      "188: porto seguro loaded.\n",
      "189: tuktoyaktuk loaded.\n",
      "190: ambilobe loaded.\n",
      "191: tessalit loaded.\n",
      "192: aborlan loaded.\n",
      "193: matara loaded.\n",
      "194: catanduva loaded.\n",
      "195: guerrero negro loaded.\n",
      "196: le vauclin loaded.\n",
      "197: cheyenne loaded.\n",
      "198: dzerzhinsk loaded.\n",
      "199: yellowknife loaded.\n",
      "200: valdivia loaded.\n",
      "201: anjiang loaded.\n",
      "202: oranjemund loaded.\n",
      "203: cherskiy loaded.\n",
      "204: san cristobal loaded.\n",
      "205: faya loaded.\n",
      "206: port keats loaded.\n",
      "207: bubaque loaded.\n",
      "208: garango loaded.\n",
      "209: qasigiannguit loaded.\n",
      "210: fairbanks loaded.\n",
      "211: mindif loaded.\n",
      "212: havre-saint-pierre loaded.\n",
      "213: izhma loaded.\n",
      "214: nouadhibou loaded.\n",
      "215: samarai loaded.\n",
      "216: rio cuarto loaded.\n",
      "217: pisco loaded.\n",
      "218: bilibino loaded.\n",
      "219: bandarbeyla loaded.\n",
      "220: tabiauea failed to load.\n",
      "221: taltal loaded.\n",
      "222: saint-georges loaded.\n",
      "223: den helder loaded.\n",
      "224: mitu loaded.\n",
      "225: tuy hoa loaded.\n",
      "226: paamiut loaded.\n",
      "227: yangambi loaded.\n",
      "228: haapiti loaded.\n",
      "229: warqla failed to load.\n",
      "230: samana loaded.\n",
      "231: sorong loaded.\n",
      "232: lucapa loaded.\n",
      "233: achkhoy-martan loaded.\n",
      "234: naugarzan failed to load.\n",
      "235: tartagal loaded.\n",
      "236: bintulu loaded.\n",
      "237: qaanaaq loaded.\n",
      "238: kapustin yar loaded.\n",
      "239: qeshm loaded.\n",
      "240: kavaratti loaded.\n",
      "241: talnakh loaded.\n",
      "242: tumannyy failed to load.\n",
      "243: la rioja loaded.\n",
      "244: tsihombe failed to load.\n",
      "245: akhty loaded.\n",
      "246: verkhoshizhemye loaded.\n",
      "247: flinders loaded.\n",
      "248: sampit loaded.\n",
      "249: harper loaded.\n",
      "250: hammond loaded.\n",
      "251: rawson loaded.\n",
      "252: boffa loaded.\n",
      "253: san patricio loaded.\n",
      "254: karpogory loaded.\n",
      "255: cuamba loaded.\n",
      "256: litovko loaded.\n",
      "257: zhadovka loaded.\n",
      "258: rungata failed to load.\n",
      "259: beyneu loaded.\n",
      "260: gravdal loaded.\n",
      "261: louisbourg failed to load.\n",
      "262: coquimbo loaded.\n",
      "263: menomonie loaded.\n",
      "264: fountain loaded.\n",
      "265: ancud loaded.\n",
      "266: fortuna loaded.\n",
      "267: sault sainte marie loaded.\n",
      "268: wanning loaded.\n",
      "269: high level loaded.\n",
      "270: marzuq loaded.\n",
      "271: tabory loaded.\n",
      "272: sobolevo loaded.\n",
      "273: mount gambier loaded.\n",
      "274: paita loaded.\n",
      "275: kodiak loaded.\n",
      "276: shingu loaded.\n",
      "277: aloleng loaded.\n",
      "278: bereda loaded.\n",
      "279: raton loaded.\n",
      "280: punta alta loaded.\n",
      "281: maragogi loaded.\n",
      "282: chuy loaded.\n",
      "283: sri aman loaded.\n",
      "284: kuna loaded.\n",
      "285: bumba loaded.\n",
      "286: salekhard loaded.\n",
      "287: bani walid loaded.\n",
      "288: yambio loaded.\n",
      "289: traralgon loaded.\n",
      "290: dhanaura loaded.\n",
      "291: linchuan failed to load.\n",
      "292: ginir loaded.\n",
      "293: vila franca do campo loaded.\n",
      "294: umm kaddadah loaded.\n",
      "295: veliko gradiste loaded.\n",
      "296: lufilufi loaded.\n",
      "297: tasiilaq loaded.\n",
      "298: kamina loaded.\n",
      "299: iqaluit loaded.\n",
      "300: san ramon loaded.\n",
      "301: vardo loaded.\n",
      "302: kropotkin loaded.\n",
      "303: shawville loaded.\n",
      "304: sankt andra failed to load.\n",
      "305: svetlogorsk loaded.\n",
      "306: shache loaded.\n",
      "307: haimen loaded.\n",
      "308: horsham loaded.\n",
      "309: zhigansk loaded.\n",
      "310: najran loaded.\n",
      "311: nueve de julio loaded.\n",
      "312: lukulu loaded.\n",
      "313: chokurdakh loaded.\n",
      "314: caravelas loaded.\n",
      "315: yoichi loaded.\n",
      "316: havoysund loaded.\n",
      "317: marawi loaded.\n",
      "318: pangnirtung loaded.\n",
      "319: goderich loaded.\n",
      "320: pahrump loaded.\n",
      "321: mahadday weyne failed to load.\n",
      "322: mezen loaded.\n",
      "323: nemuro loaded.\n",
      "324: vanimo loaded.\n",
      "325: uvarovo loaded.\n",
      "326: baboua failed to load.\n",
      "327: nagato loaded.\n",
      "328: mangochi loaded.\n",
      "329: tezu loaded.\n",
      "330: cauquenes loaded.\n",
      "331: bridgeton loaded.\n",
      "332: dingle loaded.\n",
      "333: taoudenni loaded.\n",
      "334: kurilsk loaded.\n",
      "335: denpasar loaded.\n",
      "336: torbay loaded.\n",
      "337: tuatapere loaded.\n",
      "338: rio viejo loaded.\n",
      "339: olafsvik loaded.\n",
      "340: atar loaded.\n",
      "341: airai loaded.\n",
      "342: mys shmidta failed to load.\n",
      "343: salalah loaded.\n",
      "344: kalaleh loaded.\n",
      "345: bilma loaded.\n",
      "346: palmer loaded.\n",
      "347: ambanja loaded.\n",
      "348: isangel loaded.\n",
      "349: walvis bay loaded.\n",
      "350: ketchikan loaded.\n",
      "351: nago loaded.\n",
      "352: chivay loaded.\n",
      "353: arpasu de jos loaded.\n",
      "354: tromso loaded.\n",
      "355: hirara loaded.\n",
      "356: clarence town loaded.\n",
      "357: luderitz loaded.\n",
      "358: port hardy loaded.\n"
     ]
    },
    {
     "name": "stdout",
     "output_type": "stream",
     "text": [
      "359: nishihara loaded.\n",
      "360: cumaribo failed to load.\n",
      "361: ust-omchug loaded.\n",
      "362: varna loaded.\n",
      "363: palabuhanratu failed to load.\n",
      "364: fukue loaded.\n",
      "365: shakawe loaded.\n",
      "366: marcona failed to load.\n",
      "367: tongliao loaded.\n",
      "368: shimoda loaded.\n",
      "369: sorvag failed to load.\n",
      "370: sabha loaded.\n",
      "371: zhuzhou loaded.\n",
      "372: san quintin loaded.\n",
      "373: ban nahin loaded.\n",
      "374: aleksandrovsk-sakhalinskiy loaded.\n",
      "375: port augusta loaded.\n",
      "376: tougue loaded.\n",
      "377: nacala loaded.\n",
      "378: nakkila loaded.\n",
      "379: deputatskiy loaded.\n",
      "380: menongue loaded.\n",
      "381: savonlinna loaded.\n",
      "382: morondava loaded.\n",
      "383: santa isabel do rio negro loaded.\n",
      "384: klaksvik loaded.\n",
      "385: ojinaga loaded.\n",
      "386: tecoanapa loaded.\n",
      "387: nome loaded.\n",
      "388: lagoa loaded.\n",
      "389: nguiu failed to load.\n",
      "390: kaitangata loaded.\n",
      "391: covington loaded.\n",
      "392: trat loaded.\n",
      "393: buala loaded.\n",
      "394: baykit loaded.\n",
      "395: broken hill loaded.\n",
      "396: lata loaded.\n",
      "397: belyy yar loaded.\n",
      "398: magan loaded.\n",
      "399: chumikan loaded.\n",
      "400: zhezkazgan loaded.\n",
      "401: parsabad loaded.\n",
      "402: yumen loaded.\n",
      "403: akdepe loaded.\n",
      "404: emerald loaded.\n",
      "405: vaitupu failed to load.\n",
      "406: mirabad loaded.\n",
      "407: skibbereen loaded.\n",
      "408: macusani loaded.\n",
      "409: opuwo loaded.\n",
      "410: setermoen loaded.\n",
      "411: xingyi loaded.\n",
      "412: tahe loaded.\n",
      "413: tidore failed to load.\n",
      "414: oil city loaded.\n",
      "415: gardan diwal failed to load.\n",
      "416: yaan loaded.\n",
      "417: cockburn town loaded.\n",
      "418: grand-santi loaded.\n",
      "419: ola loaded.\n",
      "420: kamaishi loaded.\n",
      "421: necochea loaded.\n",
      "422: impfondo loaded.\n",
      "423: nekhayevskiy loaded.\n",
      "424: grand gaube loaded.\n",
      "425: three hills loaded.\n",
      "426: gat loaded.\n",
      "427: kedrovyy loaded.\n",
      "428: maceio loaded.\n",
      "429: acarau loaded.\n",
      "430: ixtapa loaded.\n",
      "431: latehar loaded.\n",
      "432: jales loaded.\n",
      "433: nsanje loaded.\n",
      "434: miyako loaded.\n",
      "435: hauterive loaded.\n",
      "436: calvinia loaded.\n",
      "437: tazovskiy loaded.\n",
      "438: westport loaded.\n",
      "439: show low loaded.\n",
      "440: olden loaded.\n",
      "441: kroya loaded.\n",
      "442: iberia loaded.\n",
      "443: pacific grove loaded.\n",
      "444: larsnes loaded.\n",
      "445: harlingen loaded.\n",
      "446: bahia blanca loaded.\n",
      "447: mathathane loaded.\n",
      "448: udachnyy loaded.\n",
      "449: lorengau loaded.\n",
      "450: zarya loaded.\n",
      "451: poum loaded.\n",
      "452: batsfjord loaded.\n",
      "453: sangar loaded.\n",
      "454: sembakung loaded.\n",
      "455: petropavlovsk-kamchatskiy loaded.\n",
      "456: yamada loaded.\n",
      "457: douglas loaded.\n",
      "458: chase loaded.\n",
      "459: prince albert loaded.\n",
      "460: pochutla loaded.\n",
      "461: gavle loaded.\n",
      "462: beringovskiy loaded.\n",
      "463: mocambique failed to load.\n",
      "464: minas loaded.\n",
      "465: fereydun kenar loaded.\n",
      "466: rio gallegos loaded.\n",
      "467: meulaboh loaded.\n",
      "468: broome loaded.\n",
      "469: meyungs failed to load.\n",
      "470: touros loaded.\n",
      "471: chaiyo loaded.\n",
      "472: gamba loaded.\n",
      "473: satun loaded.\n",
      "474: araguacu loaded.\n",
      "475: sovetskiy loaded.\n",
      "476: uruguaiana loaded.\n",
      "477: verkhoyansk loaded.\n",
      "478: murakami loaded.\n",
      "479: ust-maya loaded.\n",
      "480: moose factory loaded.\n",
      "481: lircay loaded.\n",
      "482: san pedro loaded.\n",
      "483: pemangkat loaded.\n",
      "484: lerwick loaded.\n",
      "485: ust-nera loaded.\n",
      "486: campbell river loaded.\n",
      "487: bajo baudo failed to load.\n",
      "488: esperance loaded.\n",
      "489: naze loaded.\n",
      "490: prachuap khiri khan loaded.\n",
      "491: cururupu loaded.\n",
      "492: pimenta bueno loaded.\n",
      "493: chapais loaded.\n",
      "494: pasighat loaded.\n",
      "495: blytheville loaded.\n",
      "496: gushikawa loaded.\n",
      "497: padang loaded.\n",
      "498: bielsk podlaski loaded.\n",
      "499: maniitsoq loaded.\n",
      "500: kalanwali loaded.\n",
      "501: alekseyevsk loaded.\n",
      "502: ipueiras loaded.\n",
      "503: hobyo loaded.\n",
      "504: steinbach loaded.\n",
      "505: ishigaki loaded.\n",
      "506: mitsamiouli loaded.\n",
      "507: lamar loaded.\n",
      "508: camocim loaded.\n",
      "509: provideniya loaded.\n",
      "510: brae loaded.\n",
      "511: drayton valley loaded.\n",
      "512: haicheng loaded.\n",
      "513: nhulunbuy loaded.\n",
      "514: alyangula loaded.\n",
      "515: komsomolskiy loaded.\n",
      "516: robertsport loaded.\n",
      "517: halalo failed to load.\n",
      "518: kogon loaded.\n",
      "519: san policarpo loaded.\n",
      "520: yenagoa loaded.\n",
      "521: bang saphan loaded.\n",
      "522: tocopilla loaded.\n",
      "523: port macquarie loaded.\n",
      "524: goba loaded.\n",
      "525: la ronge loaded.\n",
      "526: vinh long loaded.\n",
      "527: kondinskoye loaded.\n",
      "528: camacha loaded.\n",
      "529: pangkalanbuun loaded.\n",
      "530: araouane loaded.\n",
      "531: zomin loaded.\n",
      "532: ulaangom loaded.\n",
      "533: fare loaded.\n",
      "534: lakes entrance loaded.\n",
      "535: santiago del estero loaded.\n",
      "536: nantucket loaded.\n",
      "537: friesoythe loaded.\n",
      "538: makakilo city loaded.\n",
      "539: yulara loaded.\n",
      "540: mwinilunga loaded.\n",
      "541: ensley loaded.\n",
      "542: veinticinco de mayo loaded.\n",
      "543: bathsheba loaded.\n",
      "544: cooma loaded.\n",
      "545: kamenskoye failed to load.\n",
      "546: kerema loaded.\n",
      "547: quesnel loaded.\n",
      "548: lively loaded.\n",
      "549: severo-kurilsk loaded.\n",
      "550: udankudi loaded.\n",
      "551: north bend loaded.\n",
      "552: sal rei loaded.\n",
      "553: saint george loaded.\n",
      "554: borgarnes loaded.\n",
      "555: njinikom loaded.\n",
      "556: jinxi loaded.\n",
      "557: oistins loaded.\n",
      "558: inuvik loaded.\n",
      "559: ulladulla loaded.\n",
      "560: berbera loaded.\n",
      "561: leon loaded.\n",
      "562: laguna loaded.\n",
      "563: wulanhaote failed to load.\n",
      "564: te anau loaded.\n",
      "565: saint-augustin loaded.\n",
      "566: clonakilty loaded.\n",
      "567: buluang loaded.\n",
      "568: mahon loaded.\n",
      "569: charlottesville loaded.\n",
      "570: samandag loaded.\n",
      "571: vostok loaded.\n",
      "572: zihuatanejo loaded.\n",
      "573: college loaded.\n",
      "574: hambantota loaded.\n",
      "575: simao loaded.\n",
      "576: weinan loaded.\n",
      "577: anzoategui loaded.\n",
      "578: vuktyl loaded.\n",
      "579: lugazi loaded.\n",
      "580: tura loaded.\n",
      "581: teya loaded.\n",
      "582: hammerfest loaded.\n",
      "583: francistown loaded.\n",
      "584: samusu failed to load.\n",
      "585: tadine loaded.\n",
      "586: tambura loaded.\n",
      "587: mnogovershinnyy loaded.\n",
      "588: rocha loaded.\n",
      "589: delitzsch loaded.\n",
      "590: oksfjord loaded.\n",
      "591: praya loaded.\n",
      "592: san luis loaded.\n",
      "593: qaqortoq loaded.\n",
      "594: juneau loaded.\n",
      "595: yerbogachen loaded.\n",
      "596: nam tha failed to load.\n",
      "597: tiznit loaded.\n",
      "598: sola loaded.\n",
      "599: jalu loaded.\n",
      "600: asau loaded.\n",
      "601: mecca loaded.\n",
      "602: eidfjord loaded.\n",
      "603: ponta delgada loaded.\n",
      "604: acari loaded.\n",
      "605: sitka loaded.\n",
      "606: adrar loaded.\n",
      "607: loreto loaded.\n",
      "608: jacareacanga loaded.\n",
      "609: sijunjung loaded.\n",
      "610: teguldet loaded.\n",
      "611: noshiro loaded.\n",
      "612: mount isa loaded.\n",
      "613: miedzychod loaded.\n",
      "614: burica failed to load.\n",
      "615: unai loaded.\n",
      "616: saleaula failed to load.\n",
      "617: millerovo loaded.\n",
      "618: fuling loaded.\n",
      "619: wahran failed to load.\n",
      "620: arlit loaded.\n",
      "621: sioux lookout loaded.\n",
      "622: rundu loaded.\n",
      "623: dourbali loaded.\n",
      "624: miquelon loaded.\n",
      "625: vermillion loaded.\n",
      "626: kayunga loaded.\n",
      "627: wilkie loaded.\n",
      "628: saubara loaded.\n",
      "629: leh loaded.\n",
      "630: mahanoro loaded.\n",
      "631: tagusao loaded.\n",
      "632: grimshaw loaded.\n",
      "633: verkhnevilyuysk loaded.\n",
      "634: concepcion del oro loaded.\n",
      "635: vysokogornyy loaded.\n"
     ]
    }
   ],
   "source": [
    "# Create empty weather_json list to store returns\n",
    "\n",
    "weather_json = []\n",
    "\n",
    "# Loop through cities and build weather data dictionary from api response\n",
    "\n",
    "for (n, city) in enumerate(cities, start=0):\n",
    "\n",
    "    url = \"http://api.openweathermap.org/data/2.5/weather?\"\n",
    "    query_url = url + \"appid=\" + weather_api_key + \"&q=\" + city + '&units=metric'\n",
    "\n",
    "    try:\n",
    "        response = requests.get(query_url).json()\n",
    "        clouds = response['clouds']['all']\n",
    "        country = response['sys']['country']    \n",
    "        date = response['dt']\n",
    "        humidity = response['main']['humidity']\n",
    "        longitude = response['coord']['lon']\n",
    "        latitude = response['coord']['lat']\n",
    "        temp = response['main']['temp']\n",
    "        wind_speed = response['wind']['speed']\n",
    "        weather_data = {\"City\": city,\n",
    "                        \"Temperature\": temp,\n",
    "                        \"Humidity\": humidity,\n",
    "                        \"Cloudiness\": clouds,\n",
    "                        \"Wind Speed\": wind_speed,\n",
    "                        \"Country\": country,\n",
    "                        \"Date\": date,\n",
    "                        \"Longitude\": longitude,\n",
    "                        \"Latitude\": latitude}\n",
    "        weather_json.append(weather_data)         \n",
    "        # Print success message\n",
    "        print(f'{n}: {city} loaded.')\n",
    "    except:\n",
    "        # Print failure message if city fails to load\n",
    "        print(f'{n}: {city} failed to load.')"
   ]
  },
  {
   "cell_type": "markdown",
   "metadata": {},
   "source": [
    "### Convert Raw Data to DataFrame\n",
    "* Export the city data into a .csv.\n",
    "* Display the DataFrame"
   ]
  },
  {
   "cell_type": "code",
   "execution_count": 78,
   "metadata": {},
   "outputs": [
    {
     "data": {
      "text/html": [
       "<div>\n",
       "<style scoped>\n",
       "    .dataframe tbody tr th:only-of-type {\n",
       "        vertical-align: middle;\n",
       "    }\n",
       "\n",
       "    .dataframe tbody tr th {\n",
       "        vertical-align: top;\n",
       "    }\n",
       "\n",
       "    .dataframe thead th {\n",
       "        text-align: right;\n",
       "    }\n",
       "</style>\n",
       "<table border=\"1\" class=\"dataframe\">\n",
       "  <thead>\n",
       "    <tr style=\"text-align: right;\">\n",
       "      <th></th>\n",
       "      <th>City</th>\n",
       "      <th>Temperature</th>\n",
       "      <th>Humidity</th>\n",
       "      <th>Cloudiness</th>\n",
       "      <th>Wind Speed</th>\n",
       "      <th>Country</th>\n",
       "      <th>Date</th>\n",
       "      <th>Longitude</th>\n",
       "      <th>Latitude</th>\n",
       "    </tr>\n",
       "  </thead>\n",
       "  <tbody>\n",
       "    <tr>\n",
       "      <th>0</th>\n",
       "      <td>mponela</td>\n",
       "      <td>16.65</td>\n",
       "      <td>95</td>\n",
       "      <td>21</td>\n",
       "      <td>1.72</td>\n",
       "      <td>MW</td>\n",
       "      <td>1643669418</td>\n",
       "      <td>33.7401</td>\n",
       "      <td>-13.5319</td>\n",
       "    </tr>\n",
       "    <tr>\n",
       "      <th>1</th>\n",
       "      <td>srivardhan</td>\n",
       "      <td>20.04</td>\n",
       "      <td>56</td>\n",
       "      <td>10</td>\n",
       "      <td>2.63</td>\n",
       "      <td>IN</td>\n",
       "      <td>1643669419</td>\n",
       "      <td>73.0167</td>\n",
       "      <td>18.0333</td>\n",
       "    </tr>\n",
       "    <tr>\n",
       "      <th>2</th>\n",
       "      <td>kytmanovo</td>\n",
       "      <td>-12.90</td>\n",
       "      <td>97</td>\n",
       "      <td>100</td>\n",
       "      <td>1.26</td>\n",
       "      <td>RU</td>\n",
       "      <td>1643669419</td>\n",
       "      <td>85.4479</td>\n",
       "      <td>53.4593</td>\n",
       "    </tr>\n",
       "    <tr>\n",
       "      <th>3</th>\n",
       "      <td>hofn</td>\n",
       "      <td>-0.48</td>\n",
       "      <td>88</td>\n",
       "      <td>96</td>\n",
       "      <td>3.80</td>\n",
       "      <td>IS</td>\n",
       "      <td>1643669420</td>\n",
       "      <td>-15.2082</td>\n",
       "      <td>64.2539</td>\n",
       "    </tr>\n",
       "    <tr>\n",
       "      <th>4</th>\n",
       "      <td>butaritari</td>\n",
       "      <td>27.39</td>\n",
       "      <td>79</td>\n",
       "      <td>93</td>\n",
       "      <td>5.82</td>\n",
       "      <td>KI</td>\n",
       "      <td>1643669421</td>\n",
       "      <td>172.7902</td>\n",
       "      <td>3.0707</td>\n",
       "    </tr>\n",
       "    <tr>\n",
       "      <th>...</th>\n",
       "      <td>...</td>\n",
       "      <td>...</td>\n",
       "      <td>...</td>\n",
       "      <td>...</td>\n",
       "      <td>...</td>\n",
       "      <td>...</td>\n",
       "      <td>...</td>\n",
       "      <td>...</td>\n",
       "      <td>...</td>\n",
       "    </tr>\n",
       "    <tr>\n",
       "      <th>582</th>\n",
       "      <td>tagusao</td>\n",
       "      <td>25.56</td>\n",
       "      <td>85</td>\n",
       "      <td>11</td>\n",
       "      <td>2.14</td>\n",
       "      <td>PH</td>\n",
       "      <td>1643669874</td>\n",
       "      <td>117.8141</td>\n",
       "      <td>9.1924</td>\n",
       "    </tr>\n",
       "    <tr>\n",
       "      <th>583</th>\n",
       "      <td>grimshaw</td>\n",
       "      <td>-17.22</td>\n",
       "      <td>55</td>\n",
       "      <td>40</td>\n",
       "      <td>5.66</td>\n",
       "      <td>CA</td>\n",
       "      <td>1643669874</td>\n",
       "      <td>-117.6027</td>\n",
       "      <td>56.1834</td>\n",
       "    </tr>\n",
       "    <tr>\n",
       "      <th>584</th>\n",
       "      <td>verkhnevilyuysk</td>\n",
       "      <td>-34.62</td>\n",
       "      <td>100</td>\n",
       "      <td>96</td>\n",
       "      <td>1.45</td>\n",
       "      <td>RU</td>\n",
       "      <td>1643669875</td>\n",
       "      <td>120.3167</td>\n",
       "      <td>63.4453</td>\n",
       "    </tr>\n",
       "    <tr>\n",
       "      <th>585</th>\n",
       "      <td>concepcion del oro</td>\n",
       "      <td>16.26</td>\n",
       "      <td>14</td>\n",
       "      <td>0</td>\n",
       "      <td>8.17</td>\n",
       "      <td>MX</td>\n",
       "      <td>1643669876</td>\n",
       "      <td>-101.4167</td>\n",
       "      <td>24.6333</td>\n",
       "    </tr>\n",
       "    <tr>\n",
       "      <th>586</th>\n",
       "      <td>vysokogornyy</td>\n",
       "      <td>-23.98</td>\n",
       "      <td>99</td>\n",
       "      <td>86</td>\n",
       "      <td>2.02</td>\n",
       "      <td>RU</td>\n",
       "      <td>1643669877</td>\n",
       "      <td>139.1500</td>\n",
       "      <td>50.1167</td>\n",
       "    </tr>\n",
       "  </tbody>\n",
       "</table>\n",
       "<p>587 rows × 9 columns</p>\n",
       "</div>"
      ],
      "text/plain": [
       "                   City  Temperature  Humidity  Cloudiness  Wind Speed  \\\n",
       "0               mponela        16.65        95          21        1.72   \n",
       "1            srivardhan        20.04        56          10        2.63   \n",
       "2             kytmanovo       -12.90        97         100        1.26   \n",
       "3                  hofn        -0.48        88          96        3.80   \n",
       "4            butaritari        27.39        79          93        5.82   \n",
       "..                  ...          ...       ...         ...         ...   \n",
       "582             tagusao        25.56        85          11        2.14   \n",
       "583            grimshaw       -17.22        55          40        5.66   \n",
       "584     verkhnevilyuysk       -34.62       100          96        1.45   \n",
       "585  concepcion del oro        16.26        14           0        8.17   \n",
       "586        vysokogornyy       -23.98        99          86        2.02   \n",
       "\n",
       "    Country        Date  Longitude  Latitude  \n",
       "0        MW  1643669418    33.7401  -13.5319  \n",
       "1        IN  1643669419    73.0167   18.0333  \n",
       "2        RU  1643669419    85.4479   53.4593  \n",
       "3        IS  1643669420   -15.2082   64.2539  \n",
       "4        KI  1643669421   172.7902    3.0707  \n",
       "..      ...         ...        ...       ...  \n",
       "582      PH  1643669874   117.8141    9.1924  \n",
       "583      CA  1643669874  -117.6027   56.1834  \n",
       "584      RU  1643669875   120.3167   63.4453  \n",
       "585      MX  1643669876  -101.4167   24.6333  \n",
       "586      RU  1643669877   139.1500   50.1167  \n",
       "\n",
       "[587 rows x 9 columns]"
      ]
     },
     "execution_count": 78,
     "metadata": {},
     "output_type": "execute_result"
    }
   ],
   "source": [
    "weather_df = pd.DataFrame(weather_json)\n",
    "weather_df.to_csv(\"output_data/weather_df.csv\", index=False, header=True)\n",
    "weather_df"
   ]
  },
  {
   "cell_type": "markdown",
   "metadata": {},
   "source": [
    "## Inspect the data and remove the cities where the humidity > 100%.\n",
    "----\n",
    "Skip this step if there are no cities that have humidity > 100%. "
   ]
  },
  {
   "cell_type": "code",
   "execution_count": 79,
   "metadata": {},
   "outputs": [
    {
     "data": {
      "text/html": [
       "<div>\n",
       "<style scoped>\n",
       "    .dataframe tbody tr th:only-of-type {\n",
       "        vertical-align: middle;\n",
       "    }\n",
       "\n",
       "    .dataframe tbody tr th {\n",
       "        vertical-align: top;\n",
       "    }\n",
       "\n",
       "    .dataframe thead th {\n",
       "        text-align: right;\n",
       "    }\n",
       "</style>\n",
       "<table border=\"1\" class=\"dataframe\">\n",
       "  <thead>\n",
       "    <tr style=\"text-align: right;\">\n",
       "      <th></th>\n",
       "      <th>City</th>\n",
       "      <th>Temperature</th>\n",
       "      <th>Humidity</th>\n",
       "      <th>Cloudiness</th>\n",
       "      <th>Wind Speed</th>\n",
       "      <th>Country</th>\n",
       "      <th>Date</th>\n",
       "      <th>Longitude</th>\n",
       "      <th>Latitude</th>\n",
       "    </tr>\n",
       "  </thead>\n",
       "  <tbody>\n",
       "    <tr>\n",
       "      <th>0</th>\n",
       "      <td>mponela</td>\n",
       "      <td>16.65</td>\n",
       "      <td>95</td>\n",
       "      <td>21</td>\n",
       "      <td>1.72</td>\n",
       "      <td>MW</td>\n",
       "      <td>1643669418</td>\n",
       "      <td>33.7401</td>\n",
       "      <td>-13.5319</td>\n",
       "    </tr>\n",
       "    <tr>\n",
       "      <th>1</th>\n",
       "      <td>srivardhan</td>\n",
       "      <td>20.04</td>\n",
       "      <td>56</td>\n",
       "      <td>10</td>\n",
       "      <td>2.63</td>\n",
       "      <td>IN</td>\n",
       "      <td>1643669419</td>\n",
       "      <td>73.0167</td>\n",
       "      <td>18.0333</td>\n",
       "    </tr>\n",
       "    <tr>\n",
       "      <th>2</th>\n",
       "      <td>kytmanovo</td>\n",
       "      <td>-12.90</td>\n",
       "      <td>97</td>\n",
       "      <td>100</td>\n",
       "      <td>1.26</td>\n",
       "      <td>RU</td>\n",
       "      <td>1643669419</td>\n",
       "      <td>85.4479</td>\n",
       "      <td>53.4593</td>\n",
       "    </tr>\n",
       "    <tr>\n",
       "      <th>3</th>\n",
       "      <td>hofn</td>\n",
       "      <td>-0.48</td>\n",
       "      <td>88</td>\n",
       "      <td>96</td>\n",
       "      <td>3.80</td>\n",
       "      <td>IS</td>\n",
       "      <td>1643669420</td>\n",
       "      <td>-15.2082</td>\n",
       "      <td>64.2539</td>\n",
       "    </tr>\n",
       "    <tr>\n",
       "      <th>4</th>\n",
       "      <td>butaritari</td>\n",
       "      <td>27.39</td>\n",
       "      <td>79</td>\n",
       "      <td>93</td>\n",
       "      <td>5.82</td>\n",
       "      <td>KI</td>\n",
       "      <td>1643669421</td>\n",
       "      <td>172.7902</td>\n",
       "      <td>3.0707</td>\n",
       "    </tr>\n",
       "    <tr>\n",
       "      <th>...</th>\n",
       "      <td>...</td>\n",
       "      <td>...</td>\n",
       "      <td>...</td>\n",
       "      <td>...</td>\n",
       "      <td>...</td>\n",
       "      <td>...</td>\n",
       "      <td>...</td>\n",
       "      <td>...</td>\n",
       "      <td>...</td>\n",
       "    </tr>\n",
       "    <tr>\n",
       "      <th>582</th>\n",
       "      <td>tagusao</td>\n",
       "      <td>25.56</td>\n",
       "      <td>85</td>\n",
       "      <td>11</td>\n",
       "      <td>2.14</td>\n",
       "      <td>PH</td>\n",
       "      <td>1643669874</td>\n",
       "      <td>117.8141</td>\n",
       "      <td>9.1924</td>\n",
       "    </tr>\n",
       "    <tr>\n",
       "      <th>583</th>\n",
       "      <td>grimshaw</td>\n",
       "      <td>-17.22</td>\n",
       "      <td>55</td>\n",
       "      <td>40</td>\n",
       "      <td>5.66</td>\n",
       "      <td>CA</td>\n",
       "      <td>1643669874</td>\n",
       "      <td>-117.6027</td>\n",
       "      <td>56.1834</td>\n",
       "    </tr>\n",
       "    <tr>\n",
       "      <th>584</th>\n",
       "      <td>verkhnevilyuysk</td>\n",
       "      <td>-34.62</td>\n",
       "      <td>100</td>\n",
       "      <td>96</td>\n",
       "      <td>1.45</td>\n",
       "      <td>RU</td>\n",
       "      <td>1643669875</td>\n",
       "      <td>120.3167</td>\n",
       "      <td>63.4453</td>\n",
       "    </tr>\n",
       "    <tr>\n",
       "      <th>585</th>\n",
       "      <td>concepcion del oro</td>\n",
       "      <td>16.26</td>\n",
       "      <td>14</td>\n",
       "      <td>0</td>\n",
       "      <td>8.17</td>\n",
       "      <td>MX</td>\n",
       "      <td>1643669876</td>\n",
       "      <td>-101.4167</td>\n",
       "      <td>24.6333</td>\n",
       "    </tr>\n",
       "    <tr>\n",
       "      <th>586</th>\n",
       "      <td>vysokogornyy</td>\n",
       "      <td>-23.98</td>\n",
       "      <td>99</td>\n",
       "      <td>86</td>\n",
       "      <td>2.02</td>\n",
       "      <td>RU</td>\n",
       "      <td>1643669877</td>\n",
       "      <td>139.1500</td>\n",
       "      <td>50.1167</td>\n",
       "    </tr>\n",
       "  </tbody>\n",
       "</table>\n",
       "<p>587 rows × 9 columns</p>\n",
       "</div>"
      ],
      "text/plain": [
       "                   City  Temperature  Humidity  Cloudiness  Wind Speed  \\\n",
       "0               mponela        16.65        95          21        1.72   \n",
       "1            srivardhan        20.04        56          10        2.63   \n",
       "2             kytmanovo       -12.90        97         100        1.26   \n",
       "3                  hofn        -0.48        88          96        3.80   \n",
       "4            butaritari        27.39        79          93        5.82   \n",
       "..                  ...          ...       ...         ...         ...   \n",
       "582             tagusao        25.56        85          11        2.14   \n",
       "583            grimshaw       -17.22        55          40        5.66   \n",
       "584     verkhnevilyuysk       -34.62       100          96        1.45   \n",
       "585  concepcion del oro        16.26        14           0        8.17   \n",
       "586        vysokogornyy       -23.98        99          86        2.02   \n",
       "\n",
       "    Country        Date  Longitude  Latitude  \n",
       "0        MW  1643669418    33.7401  -13.5319  \n",
       "1        IN  1643669419    73.0167   18.0333  \n",
       "2        RU  1643669419    85.4479   53.4593  \n",
       "3        IS  1643669420   -15.2082   64.2539  \n",
       "4        KI  1643669421   172.7902    3.0707  \n",
       "..      ...         ...        ...       ...  \n",
       "582      PH  1643669874   117.8141    9.1924  \n",
       "583      CA  1643669874  -117.6027   56.1834  \n",
       "584      RU  1643669875   120.3167   63.4453  \n",
       "585      MX  1643669876  -101.4167   24.6333  \n",
       "586      RU  1643669877   139.1500   50.1167  \n",
       "\n",
       "[587 rows x 9 columns]"
      ]
     },
     "execution_count": 79,
     "metadata": {},
     "output_type": "execute_result"
    }
   ],
   "source": [
    "#  Get the indices of cities that have humidity over 100%.\n",
    "weather_df_clean = weather_df[weather_df['Humidity'] <= 100]\n",
    "weather_df_clean"
   ]
  },
  {
   "cell_type": "code",
   "execution_count": 39,
   "metadata": {},
   "outputs": [],
   "source": [
    "# Make a new DataFrame equal to the city data to drop all humidity outliers by index.\n",
    "# Passing \"inplace=False\" will make a copy of the city_data DataFrame, which we call \"clean_city_data\".\n",
    "\n",
    "# I handled this issue differently"
   ]
  },
  {
   "cell_type": "markdown",
   "metadata": {},
   "source": [
    "## Plotting the Data\n",
    "* Use proper labeling of the plots using plot titles (including date of analysis) and axes labels.\n",
    "* Save the plotted figures as .pngs."
   ]
  },
  {
   "cell_type": "markdown",
   "metadata": {},
   "source": [
    "## Latitude vs. Temperature Plot"
   ]
  },
  {
   "cell_type": "code",
   "execution_count": 80,
   "metadata": {
    "scrolled": true
   },
   "outputs": [
    {
     "data": {
      "image/png": "[encoded data removed]",
      "text/plain": [
       "<Figure size 432x288 with 1 Axes>"
      ]
     },
     "metadata": {
      "needs_background": "light"
     },
     "output_type": "display_data"
    }
   ],
   "source": [
    "lat_v_temp = plt.scatter(weather_df_clean['Latitude'], weather_df_clean['Temperature'])\n",
    "plt.title(\"Latitude vs. Temperature\")\n",
    "plt.xlabel(\"Latitude\")\n",
    "plt.ylabel(\"Temperature (Celsius)\")\n",
    "plt.savefig(\"output_data/lat_v_temp.png\")"
   ]
  },
  {
   "cell_type": "markdown",
   "metadata": {},
   "source": [
    "## Latitude vs. Humidity Plot"
   ]
  },
  {
   "cell_type": "code",
   "execution_count": 81,
   "metadata": {},
   "outputs": [
    {
     "data": {
      "image/png": "[encoded data removed]",
      "text/plain": [
       "<Figure size 432x288 with 1 Axes>"
      ]
     },
     "metadata": {
      "needs_background": "light"
     },
     "output_type": "display_data"
    }
   ],
   "source": [
    "lat_v_humid = plt.scatter(weather_df_clean['Latitude'], weather_df_clean['Humidity'])\n",
    "plt.title(\"Latitude vs. Humidity\")\n",
    "plt.xlabel(\"Latitude\")\n",
    "plt.ylabel(\"Humidity\")\n",
    "plt.savefig(\"output_data/lat_v_humid.png\")"
   ]
  },
  {
   "cell_type": "markdown",
   "metadata": {},
   "source": [
    "## Latitude vs. Cloudiness Plot"
   ]
  },
  {
   "cell_type": "code",
   "execution_count": 82,
   "metadata": {},
   "outputs": [
    {
     "data": {
      "image/png": "[encoded data removed]",
      "text/plain": [
       "<Figure size 432x288 with 1 Axes>"
      ]
     },
     "metadata": {
      "needs_background": "light"
     },
     "output_type": "display_data"
    }
   ],
   "source": [
    "lat_v_cloud = plt.scatter(weather_df_clean['Latitude'], weather_df_clean['Cloudiness'])\n",
    "plt.title(\"Latitude vs. Cloudiness\")\n",
    "plt.xlabel(\"Latitude\")\n",
    "plt.ylabel(\"Cloudiness\")\n",
    "plt.savefig(\"output_data/lat_v_cloud.png\")"
   ]
  },
  {
   "cell_type": "markdown",
   "metadata": {},
   "source": [
    "## Latitude vs. Wind Speed Plot"
   ]
  },
  {
   "cell_type": "code",
   "execution_count": 83,
   "metadata": {},
   "outputs": [
    {
     "data": {
      "image/png": "[encoded data removed]",
      "text/plain": [
       "<Figure size 432x288 with 1 Axes>"
      ]
     },
     "metadata": {
      "needs_background": "light"
     },
     "output_type": "display_data"
    }
   ],
   "source": [
    "lat_v_wind = plt.scatter(weather_df_clean['Latitude'], weather_df_clean['Wind Speed'])\n",
    "plt.title(\"Latitude vs. Wind Speed\")\n",
    "plt.xlabel(\"Latitude\")\n",
    "plt.ylabel(\"Wind Speed\")\n",
    "plt.savefig(\"output_data/lat_v_wind.png\")"
   ]
  },
  {
   "cell_type": "markdown",
   "metadata": {},
   "source": [
    "## Linear Regression"
   ]
  },
  {
   "cell_type": "code",
   "execution_count": 84,
   "metadata": {},
   "outputs": [],
   "source": [
    "northern_weather_df = weather_df_clean.loc[weather_df_clean[\"Latitude\"] >= 0]\n",
    "southern_weather_df = weather_df_clean.loc[weather_df_clean[\"Latitude\"] < 0]"
   ]
  },
  {
   "cell_type": "markdown",
   "metadata": {},
   "source": [
    "####  Northern Hemisphere - Max Temp vs. Latitude Linear Regression"
   ]
  },
  {
   "cell_type": "code",
   "execution_count": 85,
   "metadata": {},
   "outputs": [
    {
     "data": {
      "image/png": "[encoded data removed]",
      "text/plain": [
       "<Figure size 432x288 with 1 Axes>"
      ]
     },
     "metadata": {
      "needs_background": "light"
     },
     "output_type": "display_data"
    },
    {
     "data": {
      "text/plain": [
       "<Figure size 432x288 with 0 Axes>"
      ]
     },
     "metadata": {},
     "output_type": "display_data"
    }
   ],
   "source": [
    "x_values = northern_weather_df['Latitude']\n",
    "y_values = northern_weather_df['Temperature']\n",
    "(slope, intercept, rvalue, pvalue, stderr) = linregress(x_values, y_values)\n",
    "regress_values = x_values * slope + intercept\n",
    "line_eq = \"y = \" + str(round(slope,2)) + \"x + \" + str(round(intercept,2))\n",
    "plt.scatter(x_values,y_values)\n",
    "plt.plot(x_values,regress_values,\"r-\")\n",
    "plt.title('Northern Hemisphere - Latitude vs. Temperature (C)')\n",
    "plt.xlabel('Latitude')\n",
    "plt.ylabel('Temperature (C)')\n",
    "plt.show()\n",
    "plt.savefig(\"output_data/nortnern-hemisphere-lat_v_temp.png\")"
   ]
  },
  {
   "cell_type": "markdown",
   "metadata": {},
   "source": [
    "####  Southern Hemisphere - Max Temp vs. Latitude Linear Regression"
   ]
  },
  {
   "cell_type": "code",
   "execution_count": 86,
   "metadata": {},
   "outputs": [
    {
     "data": {
      "image/png": "[encoded data removed]",
      "text/plain": [
       "<Figure size 432x288 with 1 Axes>"
      ]
     },
     "metadata": {
      "needs_background": "light"
     },
     "output_type": "display_data"
    },
    {
     "data": {
      "text/plain": [
       "<Figure size 432x288 with 0 Axes>"
      ]
     },
     "metadata": {},
     "output_type": "display_data"
    }
   ],
   "source": [
    "x_values = southern_weather_df['Latitude']\n",
    "y_values = southern_weather_df['Temperature']\n",
    "(slope, intercept, rvalue, pvalue, stderr) = linregress(x_values, y_values)\n",
    "regress_values = x_values * slope + intercept\n",
    "line_eq = \"y = \" + str(round(slope,2)) + \"x + \" + str(round(intercept,2))\n",
    "plt.scatter(x_values,y_values)\n",
    "plt.plot(x_values,regress_values,\"r-\")\n",
    "plt.title('Souther Hemisphere - Latitude vs. Temperature (C)')\n",
    "plt.xlabel('Latitude')\n",
    "plt.ylabel('Temperature (C)')\n",
    "plt.show()\n",
    "plt.savefig(\"output_data/southern-hemisphere-lat_v_temp.png\")"
   ]
  },
  {
   "cell_type": "markdown",
   "metadata": {},
   "source": [
    "####  Northern Hemisphere - Humidity (%) vs. Latitude Linear Regression"
   ]
  },
  {
   "cell_type": "code",
   "execution_count": 87,
   "metadata": {},
   "outputs": [
    {
     "data": {
      "image/png": "[encoded data removed]",
      "text/plain": [
       "<Figure size 432x288 with 1 Axes>"
      ]
     },
     "metadata": {
      "needs_background": "light"
     },
     "output_type": "display_data"
    },
    {
     "data": {
      "text/plain": [
       "<Figure size 432x288 with 0 Axes>"
      ]
     },
     "metadata": {},
     "output_type": "display_data"
    }
   ],
   "source": [
    "x_values = northern_weather_df['Latitude']\n",
    "y_values = northern_weather_df['Humidity']\n",
    "(slope, intercept, rvalue, pvalue, stderr) = linregress(x_values, y_values)\n",
    "regress_values = x_values * slope + intercept\n",
    "line_eq = \"y = \" + str(round(slope,2)) + \"x + \" + str(round(intercept,2))\n",
    "plt.scatter(x_values,y_values)\n",
    "plt.plot(x_values,regress_values,\"r-\")\n",
    "plt.title('Northern Hemisphere - Latitude vs. Humidity')\n",
    "plt.xlabel('Latitude')\n",
    "plt.ylabel('Humidity')\n",
    "plt.show()\n",
    "plt.savefig(\"output_data/nortnern-hemisphere-lat_v_humid.png\")"
   ]
  },
  {
   "cell_type": "markdown",
   "metadata": {},
   "source": [
    "####  Southern Hemisphere - Humidity (%) vs. Latitude Linear Regression"
   ]
  },
  {
   "cell_type": "code",
   "execution_count": 88,
   "metadata": {},
   "outputs": [
    {
     "data": {
      "image/png": "[encoded data removed]",
      "text/plain": [
       "<Figure size 432x288 with 1 Axes>"
      ]
     },
     "metadata": {
      "needs_background": "light"
     },
     "output_type": "display_data"
    },
    {
     "data": {
      "text/plain": [
       "<Figure size 432x288 with 0 Axes>"
      ]
     },
     "metadata": {},
     "output_type": "display_data"
    }
   ],
   "source": [
    "x_values = southern_weather_df['Latitude']\n",
    "y_values = southern_weather_df['Humidity']\n",
    "(slope, intercept, rvalue, pvalue, stderr) = linregress(x_values, y_values)\n",
    "regress_values = x_values * slope + intercept\n",
    "line_eq = \"y = \" + str(round(slope,2)) + \"x + \" + str(round(intercept,2))\n",
    "plt.scatter(x_values,y_values)\n",
    "plt.plot(x_values,regress_values,\"r-\")\n",
    "plt.title('Southern Hemisphere - Latitude vs. Humidity')\n",
    "plt.xlabel('Latitude')\n",
    "plt.ylabel('Humidity')\n",
    "plt.show()\n",
    "plt.savefig(\"output_data/southern-hemisphere-lat_v_humid.png\")"
   ]
  },
  {
   "cell_type": "markdown",
   "metadata": {},
   "source": [
    "####  Northern Hemisphere - Cloudiness (%) vs. Latitude Linear Regression"
   ]
  },
  {
   "cell_type": "code",
   "execution_count": 89,
   "metadata": {},
   "outputs": [
    {
     "data": {
      "image/png": "[encoded data removed]",
      "text/plain": [
       "<Figure size 432x288 with 1 Axes>"
      ]
     },
     "metadata": {
      "needs_background": "light"
     },
     "output_type": "display_data"
    },
    {
     "data": {
      "text/plain": [
       "<Figure size 432x288 with 0 Axes>"
      ]
     },
     "metadata": {},
     "output_type": "display_data"
    }
   ],
   "source": [
    "x_values = northern_weather_df['Latitude']\n",
    "y_values = northern_weather_df['Cloudiness']\n",
    "(slope, intercept, rvalue, pvalue, stderr) = linregress(x_values, y_values)\n",
    "regress_values = x_values * slope + intercept\n",
    "line_eq = \"y = \" + str(round(slope,2)) + \"x + \" + str(round(intercept,2))\n",
    "plt.scatter(x_values,y_values)\n",
    "plt.plot(x_values,regress_values,\"r-\")\n",
    "plt.title('Northern Hemisphere - Latitude vs. Cloudiness')\n",
    "plt.xlabel('Latitude')\n",
    "plt.ylabel('Cloudiness')\n",
    "plt.show()\n",
    "plt.savefig(\"output_data/nortnern-hemisphere-lat_v_cloud.png\")"
   ]
  },
  {
   "cell_type": "markdown",
   "metadata": {},
   "source": [
    "####  Southern Hemisphere - Cloudiness (%) vs. Latitude Linear Regression"
   ]
  },
  {
   "cell_type": "code",
   "execution_count": 90,
   "metadata": {},
   "outputs": [
    {
     "data": {
      "image/png": "[encoded data removed]",
      "text/plain": [
       "<Figure size 432x288 with 1 Axes>"
      ]
     },
     "metadata": {
      "needs_background": "light"
     },
     "output_type": "display_data"
    },
    {
     "data": {
      "text/plain": [
       "<Figure size 432x288 with 0 Axes>"
      ]
     },
     "metadata": {},
     "output_type": "display_data"
    }
   ],
   "source": [
    "x_values = southern_weather_df['Latitude']\n",
    "y_values = southern_weather_df['Cloudiness']\n",
    "(slope, intercept, rvalue, pvalue, stderr) = linregress(x_values, y_values)\n",
    "regress_values = x_values * slope + intercept\n",
    "line_eq = \"y = \" + str(round(slope,2)) + \"x + \" + str(round(intercept,2))\n",
    "plt.scatter(x_values,y_values)\n",
    "plt.plot(x_values,regress_values,\"r-\")\n",
    "plt.title('Southern Hemisphere - Latitude vs. Cloudiness')\n",
    "plt.xlabel('Latitude')\n",
    "plt.ylabel('Cloudiness')\n",
    "plt.show()\n",
    "plt.savefig(\"output_data/southern-hemisphere-lat_v_cloud.png\")"
   ]
  },
  {
   "cell_type": "markdown",
   "metadata": {},
   "source": [
    "####  Northern Hemisphere - Wind Speed (mph) vs. Latitude Linear Regression"
   ]
  },
  {
   "cell_type": "code",
   "execution_count": 75,
   "metadata": {},
   "outputs": [
    {
     "data": {
      "image/png": "[encoded data removed]",
      "text/plain": [
       "<Figure size 432x288 with 1 Axes>"
      ]
     },
     "metadata": {
      "needs_background": "light"
     },
     "output_type": "display_data"
    },
    {
     "data": {
      "text/plain": [
       "<Figure size 432x288 with 0 Axes>"
      ]
     },
     "metadata": {},
     "output_type": "display_data"
    }
   ],
   "source": [
    "x_values = northern_weather_df['Latitude']\n",
    "y_values = northern_weather_df['wind_speed']\n",
    "(slope, intercept, rvalue, pvalue, stderr) = linregress(x_values, y_values)\n",
    "regress_values = x_values * slope + intercept\n",
    "line_eq = \"y = \" + str(round(slope,2)) + \"x + \" + str(round(intercept,2))\n",
    "plt.scatter(x_values,y_values)\n",
    "plt.plot(x_values,regress_values,\"r-\")\n",
    "plt.title('Northern Hemisphere - Latitude vs. Wind Speed')\n",
    "plt.xlabel('Latitude')\n",
    "plt.ylabel('Wind Speed')\n",
    "plt.show()\n",
    "plt.savefig(\"output_data/nortnern-hemisphere-lat_v_wind.png\")"
   ]
  },
  {
   "cell_type": "markdown",
   "metadata": {},
   "source": [
    "####  Southern Hemisphere - Wind Speed (mph) vs. Latitude Linear Regression"
   ]
  },
  {
   "cell_type": "code",
   "execution_count": 76,
   "metadata": {},
   "outputs": [
    {
     "data": {
      "image/png": "[encoded data removed]",
      "text/plain": [
       "<Figure size 432x288 with 1 Axes>"
      ]
     },
     "metadata": {
      "needs_background": "light"
     },
     "output_type": "display_data"
    },
    {
     "data": {
      "text/plain": [
       "<Figure size 432x288 with 0 Axes>"
      ]
     },
     "metadata": {},
     "output_type": "display_data"
    }
   ],
   "source": [
    "x_values = southern_weather_df['Latitude']\n",
    "y_values = southern_weather_df['wind_speed']\n",
    "(slope, intercept, rvalue, pvalue, stderr) = linregress(x_values, y_values)\n",
    "regress_values = x_values * slope + intercept\n",
    "line_eq = \"y = \" + str(round(slope,2)) + \"x + \" + str(round(intercept,2))\n",
    "plt.scatter(x_values,y_values)\n",
    "plt.plot(x_values,regress_values,\"r-\")\n",
    "plt.title('Southern Hemisphere - Latitude vs. Wind Speed')\n",
    "plt.xlabel('Latitude')\n",
    "plt.ylabel('Wind Speed')\n",
    "plt.show()\n",
    "plt.savefig(\"output_data/southern-hemisphere-lat_v_wind.png\")"
   ]
  },
  {
   "cell_type": "markdown",
   "metadata": {},
   "source": [
    "# Observations\n",
    "\n",
    "* Temperatures are warmer closer to the equator\n",
    "* humidity does not appear to have any correlation with latitude.\n",
    "* Wind speed does not appear to have any correlation with latitude."
   ]
  },
  {
   "cell_type": "code",
   "execution_count": null,
   "metadata": {},
   "outputs": [],
   "source": []
  }
 ],
 "metadata": {
  "anaconda-cloud": {},
  "kernel_info": {
   "name": "python3"
  },
  "kernelspec": {
   "display_name": "Python 3 (ipykernel)",
   "language": "python",
   "name": "python3"
  },
  "language_info": {
   "codemirror_mode": {
    "name": "ipython",
    "version": 3
   },
   "file_extension": ".py",
   "mimetype": "text/x-python",
   "name": "python",
   "nbconvert_exporter": "python",
   "pygments_lexer": "ipython3",
   "version": "3.9.7"
  },
  "latex_envs": {
   "LaTeX_envs_menu_present": true,
   "autoclose": false,
   "autocomplete": true,
   "bibliofile": "biblio.bib",
   "cite_by": "apalike",
   "current_citInitial": 1,
   "eqLabelWithNumbers": true,
   "eqNumInitial": 1,
   "hotkeys": {
    "equation": "Ctrl-E",
    "itemize": "Ctrl-I"
   },
   "labels_anchors": false,
   "latex_user_defs": false,
   "report_style_numbering": false,
   "user_envs_cfg": false
  },
  "nteract": {
   "version": "0.12.3"
  }
 },
 "nbformat": 4,
 "nbformat_minor": 2
}
